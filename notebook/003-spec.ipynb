{
 "cells": [
  {
   "cell_type": "code",
   "execution_count": 1,
   "metadata": {},
   "outputs": [
    {
     "name": "stdout",
     "output_type": "stream",
     "text": [
      "albumentations                1.3.1\n"
     ]
    }
   ],
   "source": [
    "!pip list|grep albumentations"
   ]
  },
  {
   "cell_type": "code",
   "execution_count": 4,
   "metadata": {},
   "outputs": [],
   "source": [
    "import numpy as np\n",
    "import torch\n",
    "import torchaudio\n",
    "import pandas as pd\n",
    "\n",
    "def spectrogram_from_eeg4(parquet_path) -> np.ndarray:\n",
    "    NAMES = [\"LL\", \"LP\", \"RP\", \"RR\"]\n",
    "\n",
    "    FEATS = [\n",
    "        [\"Fp1\", \"F7\", \"T3\", \"T5\", \"O1\"],\n",
    "        [\"Fp1\", \"F3\", \"C3\", \"P3\", \"O1\"],\n",
    "        [\"Fp2\", \"F8\", \"T4\", \"T6\", \"O2\"],\n",
    "        [\"Fp2\", \"F4\", \"C4\", \"P4\", \"O2\"],\n",
    "    ]\n",
    "    \n",
    "    FOUR = 4\n",
    "    \n",
    "    # Load middle 50 seconds of EEG series\n",
    "    eeg = pd.read_parquet(parquet_path)\n",
    "    middle = (len(eeg) - 10_000) // 2\n",
    "    eeg = eeg.iloc[middle : middle + 10_000]\n",
    "\n",
    "    # Variable to hold spectrogram\n",
    "    img = np.zeros((128, 256, 4), dtype=\"float32\")\n",
    "\n",
    "    for k in range(4):\n",
    "        cols = FEATS[k]\n",
    "\n",
    "        for kk in range(4):\n",
    "            # Compute pair differences\n",
    "            x = eeg[cols[kk]].to_numpy() - eeg[cols[kk + 1]].to_numpy()\n",
    "\n",
    "            # Fill NaNs\n",
    "            m = np.nanmean(x)\n",
    "            x = np.where(np.isnan(x), m, x)  # Vectorized operation for replacing NaNs\n",
    "\n",
    "            # Convert to tensor and add a batch dimension\n",
    "            x_tensor = torch.tensor(x, dtype=torch.float32).unsqueeze(0)\n",
    "\n",
    "            # Create MelSpectrogram object\n",
    "            mel_spectrogram = torchaudio.transforms.MelSpectrogram(\n",
    "                sample_rate=200,\n",
    "                n_fft=1024,\n",
    "                win_length=128,\n",
    "                hop_length=len(x) // 256,\n",
    "                n_mels=128,\n",
    "                f_min=0,\n",
    "                f_max=20,\n",
    "                power=2.0,\n",
    "            )\n",
    "\n",
    "            # Compute spectrogram\n",
    "            mel_spec_tensor = mel_spectrogram(x_tensor)\n",
    "\n",
    "            # Convert power spectrogram to dB scale\n",
    "            mel_spec_db_tensor = torchaudio.transforms.AmplitudeToDB(stype=\"power\")(mel_spec_tensor)\n",
    "\n",
    "            # Ensure the spectrogram is the expected shape\n",
    "            width = min(mel_spec_db_tensor.shape[2], 256)\n",
    "            mel_spec_db_tensor = mel_spec_db_tensor[:, :, :width].squeeze(0)  # Remove batch dimension\n",
    "\n",
    "            # Standardize to -1 to 1\n",
    "            mel_spec_db_np = (mel_spec_db_tensor.numpy() + 40) / 40\n",
    "            img[:, :width, k] += mel_spec_db_np\n",
    "\n",
    "        # Average the 4 montage differences\n",
    "        img[:, :width, k] /= 4.0\n",
    "\n",
    "    return img[::-1]"
   ]
  },
  {
   "cell_type": "code",
   "execution_count": 5,
   "metadata": {},
   "outputs": [
    {
     "ename": "KeyError",
     "evalue": "'Fp1'",
     "output_type": "error",
     "traceback": [
      "\u001b[0;31m---------------------------------------------------------------------------\u001b[0m",
      "\u001b[0;31mKeyError\u001b[0m                                  Traceback (most recent call last)",
      "File \u001b[0;32m~/opt/anaconda3/envs/tabpfn/lib/python3.9/site-packages/pandas/core/indexes/base.py:3652\u001b[0m, in \u001b[0;36mIndex.get_loc\u001b[0;34m(self, key)\u001b[0m\n\u001b[1;32m   3651\u001b[0m \u001b[38;5;28;01mtry\u001b[39;00m:\n\u001b[0;32m-> 3652\u001b[0m     \u001b[38;5;28;01mreturn\u001b[39;00m \u001b[38;5;28;43mself\u001b[39;49m\u001b[38;5;241;43m.\u001b[39;49m\u001b[43m_engine\u001b[49m\u001b[38;5;241;43m.\u001b[39;49m\u001b[43mget_loc\u001b[49m\u001b[43m(\u001b[49m\u001b[43mcasted_key\u001b[49m\u001b[43m)\u001b[49m\n\u001b[1;32m   3653\u001b[0m \u001b[38;5;28;01mexcept\u001b[39;00m \u001b[38;5;167;01mKeyError\u001b[39;00m \u001b[38;5;28;01mas\u001b[39;00m err:\n",
      "File \u001b[0;32m~/opt/anaconda3/envs/tabpfn/lib/python3.9/site-packages/pandas/_libs/index.pyx:147\u001b[0m, in \u001b[0;36mpandas._libs.index.IndexEngine.get_loc\u001b[0;34m()\u001b[0m\n",
      "File \u001b[0;32m~/opt/anaconda3/envs/tabpfn/lib/python3.9/site-packages/pandas/_libs/index.pyx:176\u001b[0m, in \u001b[0;36mpandas._libs.index.IndexEngine.get_loc\u001b[0;34m()\u001b[0m\n",
      "File \u001b[0;32mpandas/_libs/hashtable_class_helper.pxi:7080\u001b[0m, in \u001b[0;36mpandas._libs.hashtable.PyObjectHashTable.get_item\u001b[0;34m()\u001b[0m\n",
      "File \u001b[0;32mpandas/_libs/hashtable_class_helper.pxi:7088\u001b[0m, in \u001b[0;36mpandas._libs.hashtable.PyObjectHashTable.get_item\u001b[0;34m()\u001b[0m\n",
      "\u001b[0;31mKeyError\u001b[0m: 'Fp1'",
      "\nThe above exception was the direct cause of the following exception:\n",
      "\u001b[0;31mKeyError\u001b[0m                                  Traceback (most recent call last)",
      "Cell \u001b[0;32mIn[5], line 3\u001b[0m\n\u001b[1;32m      1\u001b[0m eeg_file_path \u001b[38;5;241m=\u001b[39m \u001b[38;5;124m\"\u001b[39m\u001b[38;5;124m../data/1000086677.parquet\u001b[39m\u001b[38;5;124m\"\u001b[39m\n\u001b[0;32m----> 3\u001b[0m img \u001b[38;5;241m=\u001b[39m \u001b[43mspectrogram_from_eeg4\u001b[49m\u001b[43m(\u001b[49m\u001b[43meeg_file_path\u001b[49m\u001b[43m)\u001b[49m\n\u001b[1;32m      4\u001b[0m \u001b[38;5;28mprint\u001b[39m(\u001b[38;5;124m\"\u001b[39m\u001b[38;5;124mSpectrogram shape = \u001b[39m\u001b[38;5;124m\"\u001b[39m, img\u001b[38;5;241m.\u001b[39mshape)\n\u001b[1;32m      5\u001b[0m \u001b[38;5;28mprint\u001b[39m(img\u001b[38;5;241m.\u001b[39mmin(), img\u001b[38;5;241m.\u001b[39mmax())\n",
      "Cell \u001b[0;32mIn[4], line 31\u001b[0m, in \u001b[0;36mspectrogram_from_eeg4\u001b[0;34m(parquet_path)\u001b[0m\n\u001b[1;32m     27\u001b[0m cols \u001b[38;5;241m=\u001b[39m FEATS[k]\n\u001b[1;32m     29\u001b[0m \u001b[38;5;28;01mfor\u001b[39;00m kk \u001b[38;5;129;01min\u001b[39;00m \u001b[38;5;28mrange\u001b[39m(\u001b[38;5;241m4\u001b[39m):\n\u001b[1;32m     30\u001b[0m     \u001b[38;5;66;03m# Compute pair differences\u001b[39;00m\n\u001b[0;32m---> 31\u001b[0m     x \u001b[38;5;241m=\u001b[39m \u001b[43meeg\u001b[49m\u001b[43m[\u001b[49m\u001b[43mcols\u001b[49m\u001b[43m[\u001b[49m\u001b[43mkk\u001b[49m\u001b[43m]\u001b[49m\u001b[43m]\u001b[49m\u001b[38;5;241m.\u001b[39mto_numpy() \u001b[38;5;241m-\u001b[39m eeg[cols[kk \u001b[38;5;241m+\u001b[39m \u001b[38;5;241m1\u001b[39m]]\u001b[38;5;241m.\u001b[39mto_numpy()\n\u001b[1;32m     33\u001b[0m     \u001b[38;5;66;03m# Fill NaNs\u001b[39;00m\n\u001b[1;32m     34\u001b[0m     m \u001b[38;5;241m=\u001b[39m np\u001b[38;5;241m.\u001b[39mnanmean(x)\n",
      "File \u001b[0;32m~/opt/anaconda3/envs/tabpfn/lib/python3.9/site-packages/pandas/core/frame.py:3761\u001b[0m, in \u001b[0;36mDataFrame.__getitem__\u001b[0;34m(self, key)\u001b[0m\n\u001b[1;32m   3759\u001b[0m \u001b[38;5;28;01mif\u001b[39;00m \u001b[38;5;28mself\u001b[39m\u001b[38;5;241m.\u001b[39mcolumns\u001b[38;5;241m.\u001b[39mnlevels \u001b[38;5;241m>\u001b[39m \u001b[38;5;241m1\u001b[39m:\n\u001b[1;32m   3760\u001b[0m     \u001b[38;5;28;01mreturn\u001b[39;00m \u001b[38;5;28mself\u001b[39m\u001b[38;5;241m.\u001b[39m_getitem_multilevel(key)\n\u001b[0;32m-> 3761\u001b[0m indexer \u001b[38;5;241m=\u001b[39m \u001b[38;5;28;43mself\u001b[39;49m\u001b[38;5;241;43m.\u001b[39;49m\u001b[43mcolumns\u001b[49m\u001b[38;5;241;43m.\u001b[39;49m\u001b[43mget_loc\u001b[49m\u001b[43m(\u001b[49m\u001b[43mkey\u001b[49m\u001b[43m)\u001b[49m\n\u001b[1;32m   3762\u001b[0m \u001b[38;5;28;01mif\u001b[39;00m is_integer(indexer):\n\u001b[1;32m   3763\u001b[0m     indexer \u001b[38;5;241m=\u001b[39m [indexer]\n",
      "File \u001b[0;32m~/opt/anaconda3/envs/tabpfn/lib/python3.9/site-packages/pandas/core/indexes/base.py:3654\u001b[0m, in \u001b[0;36mIndex.get_loc\u001b[0;34m(self, key)\u001b[0m\n\u001b[1;32m   3652\u001b[0m     \u001b[38;5;28;01mreturn\u001b[39;00m \u001b[38;5;28mself\u001b[39m\u001b[38;5;241m.\u001b[39m_engine\u001b[38;5;241m.\u001b[39mget_loc(casted_key)\n\u001b[1;32m   3653\u001b[0m \u001b[38;5;28;01mexcept\u001b[39;00m \u001b[38;5;167;01mKeyError\u001b[39;00m \u001b[38;5;28;01mas\u001b[39;00m err:\n\u001b[0;32m-> 3654\u001b[0m     \u001b[38;5;28;01mraise\u001b[39;00m \u001b[38;5;167;01mKeyError\u001b[39;00m(key) \u001b[38;5;28;01mfrom\u001b[39;00m \u001b[38;5;21;01merr\u001b[39;00m\n\u001b[1;32m   3655\u001b[0m \u001b[38;5;28;01mexcept\u001b[39;00m \u001b[38;5;167;01mTypeError\u001b[39;00m:\n\u001b[1;32m   3656\u001b[0m     \u001b[38;5;66;03m# If we have a listlike key, _check_indexing_error will raise\u001b[39;00m\n\u001b[1;32m   3657\u001b[0m     \u001b[38;5;66;03m#  InvalidIndexError. Otherwise we fall through and re-raise\u001b[39;00m\n\u001b[1;32m   3658\u001b[0m     \u001b[38;5;66;03m#  the TypeError.\u001b[39;00m\n\u001b[1;32m   3659\u001b[0m     \u001b[38;5;28mself\u001b[39m\u001b[38;5;241m.\u001b[39m_check_indexing_error(key)\n",
      "\u001b[0;31mKeyError\u001b[0m: 'Fp1'"
     ]
    }
   ],
   "source": [
    "eeg_file_path = \"../data/1000086677.parquet\"\n",
    "\n",
    "img = spectrogram_from_eeg4(eeg_file_path)\n",
    "print(\"Spectrogram shape = \", img.shape)\n",
    "print(img.min(), img.max())"
   ]
  },
  {
   "cell_type": "code",
   "execution_count": 7,
   "metadata": {},
   "outputs": [
    {
     "data": {
      "text/plain": [
       "Index(['time', 'LL_0.59', 'LL_0.78', 'LL_0.98', 'LL_1.17', 'LL_1.37',\n",
       "       'LL_1.56', 'LL_1.76', 'LL_1.95', 'LL_2.15',\n",
       "       ...\n",
       "       'RP_18.16', 'RP_18.36', 'RP_18.55', 'RP_18.75', 'RP_18.95', 'RP_19.14',\n",
       "       'RP_19.34', 'RP_19.53', 'RP_19.73', 'RP_19.92'],\n",
       "      dtype='object', length=401)"
      ]
     },
     "execution_count": 7,
     "metadata": {},
     "output_type": "execute_result"
    }
   ],
   "source": [
    "pd.read_parquet(eeg_file_path).columns"
   ]
  },
  {
   "cell_type": "code",
   "execution_count": null,
   "metadata": {},
   "outputs": [],
   "source": []
  }
 ],
 "metadata": {
  "kernelspec": {
   "display_name": "tabpfn",
   "language": "python",
   "name": "python3"
  },
  "language_info": {
   "codemirror_mode": {
    "name": "ipython",
    "version": 3
   },
   "file_extension": ".py",
   "mimetype": "text/x-python",
   "name": "python",
   "nbconvert_exporter": "python",
   "pygments_lexer": "ipython3",
   "version": "3.9.16"
  }
 },
 "nbformat": 4,
 "nbformat_minor": 2
}
