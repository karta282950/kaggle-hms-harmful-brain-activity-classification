{
 "cells": [
  {
   "cell_type": "code",
   "execution_count": 1,
   "metadata": {},
   "outputs": [
    {
     "name": "stdout",
     "output_type": "stream",
     "text": [
      "<class 'omegaconf.dictconfig.DictConfig'>\n",
      "{'OUTPUT_DIR': '/kaggle/working/', 'PRE_LOADED_EEGS': '/kaggle/input/brain-eeg-spectrograms/eeg_specs.npy', 'PRE_LOADED_SPECTOGRAMS': '/kaggle/input/brain-spectrograms/specs.npy', 'TRAIN_CSV': '/kaggle/input/hms-harmful-brain-activity-classification/train.csv', 'TRAIN_EEGS': '/kaggle/input/brain-eeg-spectrograms/EEG_Spectrograms/', 'TRAIN_RAW_EEGS': '/kaggle/input/brain-eegs/eegs.npy', 'TRAIN_SPECTOGRAMS': '/kaggle/input/hms-harmful-brain-activity-classification/train_spectrograms/', 'TEST_CSV': '/kaggle/input/hms-harmful-brain-activity-classification/test.csv', 'TEST_EEGS': '/kaggle/input/hms-harmful-brain-activity-classification/test_eegs/', 'TEST_SPECTOGRAMS': '/kaggle/input/hms-harmful-brain-activity-classification/test_spectrograms/', 'SEED': 42, 'AUGMENT': True, 'BATCH_SIZE_TRAIN': 32, 'BATCH_SIZE_VALID': 32, 'EPOCHS': 5, 'FOLDS': 5, 'NUM_WORKERS': 3, 'num_epochs': 4, 'LEARNING_RATE': 0.1, 'WEIGHT_DECAY': 0.01, 'EXP_NAME': 'exp001', 'model': 'efficientnet_b0', 'monitor': 'val_loss', 'monitor_mode': 'min', 'accelerator': 'auto', 'use_amp': True, 'debug': False, 'gradient_clip_val': 1.0, 'accumulate_grad_batches': 1, 'check_val_every_n_epoch': 1, 'LOAD_MODELS_FROM': '/kaggle/input/hms-inference-test/EffNet_v5_f0.ckpt', 'AMP': True, 'FREEZE': False, 'GRADIENT_ACCUMULATION_STEPS': 1, 'MAX_GRAD_NORM': 10000000.0, 'NUM_FROZEN_LAYERS': 39, 'PRINT_FREQ': 20, 'TRAIN_FULL_DATA': False, 'VISUALIZE': True}\n"
     ]
    }
   ],
   "source": [
    "from hydra import initialize, compose\n",
    "\n",
    "with initialize(version_base=None, config_path=\"../\"):\n",
    "    cfg = compose(config_name=\"config.yaml\")\n",
    "    print(type(cfg))\n",
    "    print(cfg)"
   ]
  }
 ],
 "metadata": {
  "kernelspec": {
   "display_name": "tabpfn",
   "language": "python",
   "name": "python3"
  },
  "language_info": {
   "codemirror_mode": {
    "name": "ipython",
    "version": 3
   },
   "file_extension": ".py",
   "mimetype": "text/x-python",
   "name": "python",
   "nbconvert_exporter": "python",
   "pygments_lexer": "ipython3",
   "version": "3.9.16"
  }
 },
 "nbformat": 4,
 "nbformat_minor": 2
}
